{
 "cells": [
  {
   "cell_type": "markdown",
   "id": "3c3a343d",
   "metadata": {},
   "source": [
    "my_string=\"Sungur\""
   ]
  },
  {
   "cell_type": "code",
   "execution_count": 1,
   "id": "8f071b73",
   "metadata": {},
   "outputs": [
    {
     "ename": "NameError",
     "evalue": "name 'my_string' is not defined",
     "output_type": "error",
     "traceback": [
      "\u001b[1;31m---------------------------------------------------------------------------\u001b[0m",
      "\u001b[1;31mNameError\u001b[0m                                 Traceback (most recent call last)",
      "\u001b[1;32m<ipython-input-1-c8faffe1fa2e>\u001b[0m in \u001b[0;36m<module>\u001b[1;34m\u001b[0m\n\u001b[1;32m----> 1\u001b[1;33m \u001b[0mmy_string\u001b[0m\u001b[1;33m.\u001b[0m\u001b[0mupper\u001b[0m\u001b[1;33m(\u001b[0m\u001b[1;33m)\u001b[0m\u001b[1;33m\u001b[0m\u001b[1;33m\u001b[0m\u001b[0m\n\u001b[0m",
      "\u001b[1;31mNameError\u001b[0m: name 'my_string' is not defined"
     ]
    }
   ],
   "source": [
    "my_string.upper()"
   ]
  },
  {
   "cell_type": "code",
   "execution_count": null,
   "id": "e1b850c8",
   "metadata": {},
   "outputs": [],
   "source": [
    "my_string"
   ]
  },
  {
   "cell_type": "code",
   "execution_count": null,
   "id": "251eeb94",
   "metadata": {},
   "outputs": [],
   "source": [
    "my_string_upper=my_string.upper()"
   ]
  },
  {
   "cell_type": "code",
   "execution_count": null,
   "id": "28782a80",
   "metadata": {
    "scrolled": true
   },
   "outputs": [],
   "source": [
    "my_string_upper "
   ]
  },
  {
   "cell_type": "code",
   "execution_count": null,
   "id": "0f4c7cb8",
   "metadata": {
    "scrolled": false
   },
   "outputs": [],
   "source": [
    "help(my_string.split)"
   ]
  },
  {
   "cell_type": "code",
   "execution_count": null,
   "id": "0d2aa3c2",
   "metadata": {},
   "outputs": [],
   "source": [
    "def hello_word():\n",
    "    print(\"hello\")\n",
    "    print(\"word\")"
   ]
  },
  {
   "cell_type": "code",
   "execution_count": null,
   "id": "fbe01350",
   "metadata": {},
   "outputs": [],
   "source": [
    "hello_word"
   ]
  },
  {
   "cell_type": "code",
   "execution_count": null,
   "id": "a0a364b3",
   "metadata": {},
   "outputs": [],
   "source": [
    "hello_word()"
   ]
  },
  {
   "cell_type": "markdown",
   "id": "9d1a02e1",
   "metadata": {},
   "source": [
    "## input & return"
   ]
  },
  {
   "cell_type": "code",
   "execution_count": null,
   "id": "d23d7d43",
   "metadata": {},
   "outputs": [],
   "source": [
    "def hello_programing(name):\n",
    "    print(\"hello\")\n",
    "    print(name)"
   ]
  },
  {
   "cell_type": "code",
   "execution_count": null,
   "id": "20b4abe3",
   "metadata": {},
   "outputs": [],
   "source": [
    "hello_programing(\"python\")"
   ]
  },
  {
   "cell_type": "code",
   "execution_count": null,
   "id": "d5dc0d2c",
   "metadata": {},
   "outputs": [],
   "source": [
    "hello_programing(\"Java\")"
   ]
  },
  {
   "cell_type": "code",
   "execution_count": null,
   "id": "cbbd19d7",
   "metadata": {},
   "outputs": [],
   "source": [
    "def hello_program(name=\"python\"):\n",
    "    print(\"hello\")\n",
    "    print(name)"
   ]
  },
  {
   "cell_type": "code",
   "execution_count": null,
   "id": "7104f49c",
   "metadata": {},
   "outputs": [],
   "source": [
    "hello_program()"
   ]
  },
  {
   "cell_type": "code",
   "execution_count": null,
   "id": "84210ac6",
   "metadata": {},
   "outputs": [],
   "source": [
    "hello_program(\"java\")"
   ]
  },
  {
   "cell_type": "code",
   "execution_count": null,
   "id": "6089a5ad",
   "metadata": {},
   "outputs": [],
   "source": [
    "def summ(number1,number2):\n",
    "    number3=number1+number2\n",
    "    print(number3)"
   ]
  },
  {
   "cell_type": "code",
   "execution_count": null,
   "id": "1b76a50a",
   "metadata": {},
   "outputs": [],
   "source": [
    "summ(5,8)"
   ]
  },
  {
   "cell_type": "code",
   "execution_count": null,
   "id": "c87dbc6d",
   "metadata": {},
   "outputs": [],
   "source": [
    "summ(10,-500)"
   ]
  },
  {
   "cell_type": "code",
   "execution_count": null,
   "id": "71f10231",
   "metadata": {},
   "outputs": [],
   "source": [
    "def summation(num1,num2,num3):\n",
    "    return num1+num2+num3"
   ]
  },
  {
   "cell_type": "code",
   "execution_count": null,
   "id": "888e517f",
   "metadata": {},
   "outputs": [],
   "source": [
    "summation(10,20,30)"
   ]
  },
  {
   "cell_type": "code",
   "execution_count": null,
   "id": "3de72d8b",
   "metadata": {},
   "outputs": [],
   "source": [
    "my_result=summation(10,20,30)"
   ]
  },
  {
   "cell_type": "code",
   "execution_count": null,
   "id": "c0f25d7e",
   "metadata": {},
   "outputs": [],
   "source": [
    "my_result"
   ]
  },
  {
   "cell_type": "code",
   "execution_count": null,
   "id": "c68e586d",
   "metadata": {},
   "outputs": [],
   "source": [
    "my_integer=sum(10,20) # return kullanılmadığı işçin çalışmaz"
   ]
  },
  {
   "cell_type": "code",
   "execution_count": null,
   "id": "b4748f51",
   "metadata": {},
   "outputs": [],
   "source": [
    "my_integer"
   ]
  },
  {
   "cell_type": "code",
   "execution_count": null,
   "id": "058428d3",
   "metadata": {},
   "outputs": [],
   "source": [
    "type(my_integer)"
   ]
  },
  {
   "cell_type": "code",
   "execution_count": null,
   "id": "3beea1fa",
   "metadata": {},
   "outputs": [],
   "source": [
    "def control_string(s):\n",
    "    if s[0]==\"m\":\n",
    "        print(\"mmm\")"
   ]
  },
  {
   "cell_type": "code",
   "execution_count": null,
   "id": "e13de571",
   "metadata": {},
   "outputs": [],
   "source": [
    "control_string(\"istanbul\")"
   ]
  },
  {
   "cell_type": "code",
   "execution_count": null,
   "id": "abe2be6e",
   "metadata": {},
   "outputs": [],
   "source": [
    "control_string(\"merhaba\")"
   ]
  },
  {
   "cell_type": "code",
   "execution_count": null,
   "id": "b108715e",
   "metadata": {},
   "outputs": [],
   "source": [
    "def control_string(s):\n",
    "    if s[0]==\"m\":\n",
    "        print(s.capitalize())"
   ]
  },
  {
   "cell_type": "code",
   "execution_count": null,
   "id": "2014dd35",
   "metadata": {},
   "outputs": [],
   "source": [
    "control_string(\"merhaba\")"
   ]
  },
  {
   "cell_type": "code",
   "execution_count": null,
   "id": "d26eb847",
   "metadata": {},
   "outputs": [],
   "source": [
    "control_string(\"trabzon\")"
   ]
  },
  {
   "cell_type": "markdown",
   "id": "7743a342",
   "metadata": {},
   "source": [
    "## arbitary arguments & key word argument"
   ]
  },
  {
   "cell_type": "code",
   "execution_count": 3,
   "id": "727045ad",
   "metadata": {},
   "outputs": [],
   "source": [
    "def summation_2(*args): #kaç değer gireceğini belirmiyor\n",
    "    return sum(args)"
   ]
  },
  {
   "cell_type": "code",
   "execution_count": 4,
   "id": "419e60a5",
   "metadata": {},
   "outputs": [
    {
     "data": {
      "text/plain": [
       "60"
      ]
     },
     "execution_count": 4,
     "metadata": {},
     "output_type": "execute_result"
    }
   ],
   "source": [
    "summation_2(10,20,30)"
   ]
  },
  {
   "cell_type": "code",
   "execution_count": 5,
   "id": "eb157bee",
   "metadata": {},
   "outputs": [
    {
     "data": {
      "text/plain": [
       "297"
      ]
     },
     "execution_count": 5,
     "metadata": {},
     "output_type": "execute_result"
    }
   ],
   "source": [
    "summation_2(10,20,30,40,50,60,70,8,0,9,0)"
   ]
  },
  {
   "cell_type": "code",
   "execution_count": 6,
   "id": "01c01489",
   "metadata": {},
   "outputs": [],
   "source": [
    "def my_func(*args):\n",
    "    print(args)"
   ]
  },
  {
   "cell_type": "code",
   "execution_count": 7,
   "id": "21900eb2",
   "metadata": {},
   "outputs": [
    {
     "name": "stdout",
     "output_type": "stream",
     "text": [
      "('a', 'b', 1, 2)\n"
     ]
    }
   ],
   "source": [
    "my_func(\"a\",\"b\",1,2)"
   ]
  },
  {
   "cell_type": "code",
   "execution_count": 8,
   "id": "a91051b4",
   "metadata": {},
   "outputs": [],
   "source": [
    "def my_func2(*atıl):\n",
    "    print(atıl)"
   ]
  },
  {
   "cell_type": "code",
   "execution_count": 9,
   "id": "d9d75871",
   "metadata": {},
   "outputs": [
    {
     "name": "stdout",
     "output_type": "stream",
     "text": [
      "('mer', 'ha', 'ba', 4, 5)\n"
     ]
    }
   ],
   "source": [
    "my_func2(\"mer\",\"ha\",\"ba\",4,5)"
   ]
  },
  {
   "cell_type": "code",
   "execution_count": 10,
   "id": "2e13dde0",
   "metadata": {},
   "outputs": [],
   "source": [
    "def example_func(**kwargs):\n",
    "    print(kwargs)"
   ]
  },
  {
   "cell_type": "code",
   "execution_count": 11,
   "id": "d8e0a48e",
   "metadata": {},
   "outputs": [
    {
     "name": "stdout",
     "output_type": "stream",
     "text": [
      "{'run': 100, 'swim': 200, 'basketball': 300}\n"
     ]
    }
   ],
   "source": [
    "example_func(run=100,swim=200,basketball=300)"
   ]
  },
  {
   "cell_type": "code",
   "execution_count": 12,
   "id": "22baf4c1",
   "metadata": {},
   "outputs": [
    {
     "name": "stdout",
     "output_type": "stream",
     "text": [
      "{'a': 1, 'b': 2}\n"
     ]
    }
   ],
   "source": [
    "example_func(a=1,b=2)"
   ]
  },
  {
   "cell_type": "code",
   "execution_count": 13,
   "id": "080b2dff",
   "metadata": {},
   "outputs": [],
   "source": [
    "def keyword_func(**kwargs):\n",
    "    if \"Metallica\" in kwargs:\n",
    "        print(\"Heavy Metalll\")\n",
    "    else:\n",
    "        print(\"Rock is dead\")"
   ]
  },
  {
   "cell_type": "code",
   "execution_count": 15,
   "id": "45e30900",
   "metadata": {},
   "outputs": [
    {
     "name": "stdout",
     "output_type": "stream",
     "text": [
      "Heavy Metalll\n"
     ]
    }
   ],
   "source": [
    "keyword_func(Metallica=10,sacmalik=1010,geriZeka=110000)"
   ]
  },
  {
   "cell_type": "code",
   "execution_count": 18,
   "id": "eb05a1f8",
   "metadata": {},
   "outputs": [
    {
     "name": "stdout",
     "output_type": "stream",
     "text": [
      "Rock is dead\n"
     ]
    }
   ],
   "source": [
    "keyword_func(sacmalik=1010,geriZeka=110000)"
   ]
  },
  {
   "cell_type": "code",
   "execution_count": null,
   "id": "28c6aae0",
   "metadata": {},
   "outputs": [],
   "source": []
  }
 ],
 "metadata": {
  "kernelspec": {
   "display_name": "Python 3",
   "language": "python",
   "name": "python3"
  },
  "language_info": {
   "codemirror_mode": {
    "name": "ipython",
    "version": 3
   },
   "file_extension": ".py",
   "mimetype": "text/x-python",
   "name": "python",
   "nbconvert_exporter": "python",
   "pygments_lexer": "ipython3",
   "version": "3.7.4"
  }
 },
 "nbformat": 4,
 "nbformat_minor": 5
}
