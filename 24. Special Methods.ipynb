{
 "cells": [
  {
   "cell_type": "code",
   "execution_count": 2,
   "id": "d84a286f",
   "metadata": {},
   "outputs": [],
   "source": [
    "class Fruits():\n",
    "    def __init__(self,name,calories):\n",
    "        self.name=name\n",
    "        self.calories=calories"
   ]
  },
  {
   "cell_type": "code",
   "execution_count": 3,
   "id": "4bb9b02c",
   "metadata": {},
   "outputs": [],
   "source": [
    "my_fruite=Fruits(\"Banana\",200)"
   ]
  },
  {
   "cell_type": "code",
   "execution_count": 6,
   "id": "aa721bfe",
   "metadata": {},
   "outputs": [
    {
     "data": {
      "text/plain": [
       "200"
      ]
     },
     "execution_count": 6,
     "metadata": {},
     "output_type": "execute_result"
    }
   ],
   "source": [
    "my_fruite.calories"
   ]
  },
  {
   "cell_type": "code",
   "execution_count": 7,
   "id": "f21ac4e4",
   "metadata": {},
   "outputs": [
    {
     "data": {
      "text/plain": [
       "'Banana'"
      ]
     },
     "execution_count": 7,
     "metadata": {},
     "output_type": "execute_result"
    }
   ],
   "source": [
    "my_fruite.name"
   ]
  },
  {
   "cell_type": "code",
   "execution_count": 8,
   "id": "e37875ef",
   "metadata": {},
   "outputs": [
    {
     "name": "stdout",
     "output_type": "stream",
     "text": [
      "<__main__.Fruits object at 0x000001BF170FE388>\n"
     ]
    }
   ],
   "source": [
    "print(my_fruite)"
   ]
  },
  {
   "cell_type": "code",
   "execution_count": 9,
   "id": "27b17248",
   "metadata": {},
   "outputs": [
    {
     "ename": "TypeError",
     "evalue": "object of type 'Fruits' has no len()",
     "output_type": "error",
     "traceback": [
      "\u001b[1;31m---------------------------------------------------------------------------\u001b[0m",
      "\u001b[1;31mTypeError\u001b[0m                                 Traceback (most recent call last)",
      "\u001b[1;32m<ipython-input-9-fd489faa05da>\u001b[0m in \u001b[0;36m<module>\u001b[1;34m\u001b[0m\n\u001b[1;32m----> 1\u001b[1;33m \u001b[0mlen\u001b[0m\u001b[1;33m(\u001b[0m\u001b[0mmy_fruite\u001b[0m\u001b[1;33m)\u001b[0m\u001b[1;33m\u001b[0m\u001b[1;33m\u001b[0m\u001b[0m\n\u001b[0m",
      "\u001b[1;31mTypeError\u001b[0m: object of type 'Fruits' has no len()"
     ]
    }
   ],
   "source": [
    "len(my_fruite)"
   ]
  },
  {
   "cell_type": "code",
   "execution_count": 10,
   "id": "c3e69547",
   "metadata": {},
   "outputs": [],
   "source": [
    "my_list=[\"a\",\"b\",1]"
   ]
  },
  {
   "cell_type": "code",
   "execution_count": 11,
   "id": "8219ed1b",
   "metadata": {},
   "outputs": [
    {
     "name": "stdout",
     "output_type": "stream",
     "text": [
      "['a', 'b', 1]\n"
     ]
    }
   ],
   "source": [
    "print(my_list)"
   ]
  },
  {
   "cell_type": "code",
   "execution_count": 12,
   "id": "4bb2072f",
   "metadata": {},
   "outputs": [
    {
     "data": {
      "text/plain": [
       "3"
      ]
     },
     "execution_count": 12,
     "metadata": {},
     "output_type": "execute_result"
    }
   ],
   "source": [
    "len(my_list)"
   ]
  },
  {
   "cell_type": "code",
   "execution_count": 23,
   "id": "b097521a",
   "metadata": {},
   "outputs": [],
   "source": [
    "class Fruits2():\n",
    "    def __init__(self,name,calories):\n",
    "        self.name=name\n",
    "        self.calories=calories\n",
    "        \n",
    "    def __str__(self):\n",
    "        return f\"{self.name} has {self.calories}\"\n",
    "    \n",
    "    def __len__(self):\n",
    "        return self.calories"
   ]
  },
  {
   "cell_type": "code",
   "execution_count": 24,
   "id": "d2b598df",
   "metadata": {},
   "outputs": [],
   "source": [
    "my_fruite2=Fruits2(\"Banana\",200)"
   ]
  },
  {
   "cell_type": "code",
   "execution_count": 25,
   "id": "c93d8292",
   "metadata": {},
   "outputs": [
    {
     "name": "stdout",
     "output_type": "stream",
     "text": [
      "Banana has 200\n"
     ]
    }
   ],
   "source": [
    "print(my_fruite2)"
   ]
  },
  {
   "cell_type": "code",
   "execution_count": 26,
   "id": "4f7984f1",
   "metadata": {},
   "outputs": [
    {
     "data": {
      "text/plain": [
       "200"
      ]
     },
     "execution_count": 26,
     "metadata": {},
     "output_type": "execute_result"
    }
   ],
   "source": [
    "len(my_fruite2)"
   ]
  },
  {
   "cell_type": "code",
   "execution_count": null,
   "id": "c489034b",
   "metadata": {},
   "outputs": [],
   "source": []
  }
 ],
 "metadata": {
  "kernelspec": {
   "display_name": "Python 3",
   "language": "python",
   "name": "python3"
  },
  "language_info": {
   "codemirror_mode": {
    "name": "ipython",
    "version": 3
   },
   "file_extension": ".py",
   "mimetype": "text/x-python",
   "name": "python",
   "nbconvert_exporter": "python",
   "pygments_lexer": "ipython3",
   "version": "3.7.4"
  }
 },
 "nbformat": 4,
 "nbformat_minor": 5
}
