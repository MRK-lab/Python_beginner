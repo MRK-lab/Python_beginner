{
 "cells": [
  {
   "cell_type": "code",
   "execution_count": 1,
   "id": "e48c47ac",
   "metadata": {},
   "outputs": [],
   "source": [
    "## değerinin belirledikten sonra değişmiyor"
   ]
  },
  {
   "cell_type": "code",
   "execution_count": 2,
   "id": "c94a4c42",
   "metadata": {},
   "outputs": [],
   "source": [
    "my_list=[\"a\",1,\"c\"]"
   ]
  },
  {
   "cell_type": "code",
   "execution_count": 5,
   "id": "4a184a94",
   "metadata": {},
   "outputs": [],
   "source": [
    "my_list[0]=\"b\""
   ]
  },
  {
   "cell_type": "code",
   "execution_count": 6,
   "id": "1a6dfd39",
   "metadata": {},
   "outputs": [
    {
     "data": {
      "text/plain": [
       "['b', 1, 'c']"
      ]
     },
     "execution_count": 6,
     "metadata": {},
     "output_type": "execute_result"
    }
   ],
   "source": [
    "my_list"
   ]
  },
  {
   "cell_type": "code",
   "execution_count": 7,
   "id": "a5bc58ea",
   "metadata": {},
   "outputs": [],
   "source": [
    "my_tuple=(\"a\",1,\"c\")"
   ]
  },
  {
   "cell_type": "code",
   "execution_count": 8,
   "id": "17bfcd52",
   "metadata": {},
   "outputs": [
    {
     "data": {
      "text/plain": [
       "'a'"
      ]
     },
     "execution_count": 8,
     "metadata": {},
     "output_type": "execute_result"
    }
   ],
   "source": [
    "my_tuple[0]"
   ]
  },
  {
   "cell_type": "code",
   "execution_count": 9,
   "id": "d0e027f3",
   "metadata": {},
   "outputs": [
    {
     "ename": "TypeError",
     "evalue": "'tuple' object does not support item assignment",
     "output_type": "error",
     "traceback": [
      "\u001b[1;31m---------------------------------------------------------------------------\u001b[0m",
      "\u001b[1;31mTypeError\u001b[0m                                 Traceback (most recent call last)",
      "\u001b[1;32m<ipython-input-9-442a116b53fa>\u001b[0m in \u001b[0;36m<module>\u001b[1;34m\u001b[0m\n\u001b[1;32m----> 1\u001b[1;33m \u001b[0mmy_tuple\u001b[0m\u001b[1;33m[\u001b[0m\u001b[1;36m0\u001b[0m\u001b[1;33m]\u001b[0m\u001b[1;33m=\u001b[0m\u001b[1;34m\"b\"\u001b[0m\u001b[1;33m\u001b[0m\u001b[1;33m\u001b[0m\u001b[0m\n\u001b[0m",
      "\u001b[1;31mTypeError\u001b[0m: 'tuple' object does not support item assignment"
     ]
    }
   ],
   "source": [
    "my_tuple[0]=\"b\""
   ]
  },
  {
   "cell_type": "markdown",
   "id": "a65ac27e",
   "metadata": {},
   "source": [
    "##immutable"
   ]
  },
  {
   "cell_type": "code",
   "execution_count": 10,
   "id": "fbe273e3",
   "metadata": {},
   "outputs": [
    {
     "ename": "TypeError",
     "evalue": "'tuple' object does not support item assignment",
     "output_type": "error",
     "traceback": [
      "\u001b[1;31m---------------------------------------------------------------------------\u001b[0m",
      "\u001b[1;31mTypeError\u001b[0m                                 Traceback (most recent call last)",
      "\u001b[1;32m<ipython-input-10-6366b6d93643>\u001b[0m in \u001b[0;36m<module>\u001b[1;34m\u001b[0m\n\u001b[1;32m----> 1\u001b[1;33m \u001b[0mmy_tuple\u001b[0m\u001b[1;33m[\u001b[0m\u001b[1;36m1\u001b[0m\u001b[1;33m]\u001b[0m\u001b[1;33m=\u001b[0m\u001b[1;34m\"2\"\u001b[0m\u001b[1;33m\u001b[0m\u001b[1;33m\u001b[0m\u001b[0m\n\u001b[0m",
      "\u001b[1;31mTypeError\u001b[0m: 'tuple' object does not support item assignment"
     ]
    }
   ],
   "source": [
    "my_tuple[1]=\"2\""
   ]
  },
  {
   "cell_type": "code",
   "execution_count": 15,
   "id": "3f8106a2",
   "metadata": {},
   "outputs": [
    {
     "data": {
      "text/plain": [
       "1"
      ]
     },
     "execution_count": 15,
     "metadata": {},
     "output_type": "execute_result"
    }
   ],
   "source": [
    "my_tuple.count(\"a\") ##kaç tane var anlamına gelir"
   ]
  },
  {
   "cell_type": "code",
   "execution_count": 16,
   "id": "ae87cae7",
   "metadata": {},
   "outputs": [],
   "source": [
    "my_tuple_2=(1,1,1,\"a\",\"c\")"
   ]
  },
  {
   "cell_type": "code",
   "execution_count": 17,
   "id": "bd20cfce",
   "metadata": {},
   "outputs": [
    {
     "data": {
      "text/plain": [
       "3"
      ]
     },
     "execution_count": 17,
     "metadata": {},
     "output_type": "execute_result"
    }
   ],
   "source": [
    "my_tuple_2.count(1)"
   ]
  },
  {
   "cell_type": "code",
   "execution_count": 20,
   "id": "6d038210",
   "metadata": {},
   "outputs": [
    {
     "data": {
      "text/plain": [
       "3"
      ]
     },
     "execution_count": 20,
     "metadata": {},
     "output_type": "execute_result"
    }
   ],
   "source": [
    "my_tuple_2.index(\"a\") ##nerede olduğunu gösterdi"
   ]
  },
  {
   "cell_type": "code",
   "execution_count": 22,
   "id": "7b2160a9",
   "metadata": {},
   "outputs": [
    {
     "data": {
      "text/plain": [
       "0"
      ]
     },
     "execution_count": 22,
     "metadata": {},
     "output_type": "execute_result"
    }
   ],
   "source": [
    "my_tuple_2.index(1)"
   ]
  },
  {
   "cell_type": "code",
   "execution_count": null,
   "id": "8d5ff35a",
   "metadata": {},
   "outputs": [],
   "source": []
  }
 ],
 "metadata": {
  "kernelspec": {
   "display_name": "Python 3",
   "language": "python",
   "name": "python3"
  },
  "language_info": {
   "codemirror_mode": {
    "name": "ipython",
    "version": 3
   },
   "file_extension": ".py",
   "mimetype": "text/x-python",
   "name": "python",
   "nbconvert_exporter": "python",
   "pygments_lexer": "ipython3",
   "version": "3.7.4"
  }
 },
 "nbformat": 4,
 "nbformat_minor": 5
}
