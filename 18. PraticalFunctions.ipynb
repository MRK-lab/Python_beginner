{
 "cells": [
  {
   "cell_type": "code",
   "execution_count": 1,
   "id": "776e9f7a",
   "metadata": {},
   "outputs": [],
   "source": [
    "def divide(number):\n",
    "    return number/2"
   ]
  },
  {
   "cell_type": "code",
   "execution_count": 2,
   "id": "15da1dfd",
   "metadata": {},
   "outputs": [
    {
     "data": {
      "text/plain": [
       "5.0"
      ]
     },
     "execution_count": 2,
     "metadata": {},
     "output_type": "execute_result"
    }
   ],
   "source": [
    "divide(10)"
   ]
  },
  {
   "cell_type": "code",
   "execution_count": 6,
   "id": "4c9f0aa4",
   "metadata": {},
   "outputs": [],
   "source": [
    "my_list=[1,2,3,4,5,6,7,8]"
   ]
  },
  {
   "cell_type": "code",
   "execution_count": null,
   "id": "2ef03c47",
   "metadata": {},
   "outputs": [],
   "source": [
    "for num in my_list:\n",
    "    print(divide(num))"
   ]
  },
  {
   "cell_type": "code",
   "execution_count": 12,
   "id": "8add23a8",
   "metadata": {},
   "outputs": [
    {
     "name": "stdout",
     "output_type": "stream",
     "text": [
      "0.5\n",
      "1.0\n",
      "1.5\n",
      "2.0\n",
      "2.5\n",
      "3.0\n",
      "3.5\n",
      "4.0\n"
     ]
    }
   ],
   "source": [
    "for num in my_list:\n",
    "    print(divide(num))"
   ]
  },
  {
   "cell_type": "code",
   "execution_count": 13,
   "id": "38782181",
   "metadata": {},
   "outputs": [
    {
     "name": "stdout",
     "output_type": "stream",
     "text": [
      "[0.5, 1.0, 1.5, 2.0, 2.5, 3.0, 3.5, 4.0]\n"
     ]
    }
   ],
   "source": [
    "my_new_list=[]\n",
    "for num in my_list:\n",
    "    my_new_list.append(divide(num))\n",
    "print(my_new_list)"
   ]
  },
  {
   "cell_type": "markdown",
   "id": "7d9e2dfd",
   "metadata": {},
   "source": [
    "## map"
   ]
  },
  {
   "cell_type": "code",
   "execution_count": 10,
   "id": "9d9cdf74",
   "metadata": {},
   "outputs": [
    {
     "data": {
      "text/plain": [
       "<map at 0x23e92412688>"
      ]
     },
     "execution_count": 10,
     "metadata": {},
     "output_type": "execute_result"
    }
   ],
   "source": [
    "map(divide,my_list)"
   ]
  },
  {
   "cell_type": "code",
   "execution_count": 11,
   "id": "3604a383",
   "metadata": {},
   "outputs": [
    {
     "data": {
      "text/plain": [
       "[0.5, 1.0, 1.5, 2.0, 2.5, 3.0, 3.5, 4.0]"
      ]
     },
     "execution_count": 11,
     "metadata": {},
     "output_type": "execute_result"
    }
   ],
   "source": [
    "list(map(divide,my_list))"
   ]
  },
  {
   "cell_type": "code",
   "execution_count": 17,
   "id": "9ac3c773",
   "metadata": {},
   "outputs": [],
   "source": [
    "def control_string(string):\n",
    "    if \"Metallica\" in string:\n",
    "        return True"
   ]
  },
  {
   "cell_type": "code",
   "execution_count": 18,
   "id": "9876781b",
   "metadata": {},
   "outputs": [
    {
     "data": {
      "text/plain": [
       "True"
      ]
     },
     "execution_count": 18,
     "metadata": {},
     "output_type": "execute_result"
    }
   ],
   "source": [
    "control_string(\"Metallica sdkjgsır\")"
   ]
  },
  {
   "cell_type": "code",
   "execution_count": 19,
   "id": "0d8fc805",
   "metadata": {},
   "outputs": [],
   "source": [
    "def control_string(string):\n",
    "    return \"Metallica\" in string"
   ]
  },
  {
   "cell_type": "code",
   "execution_count": 21,
   "id": "82f3ac0c",
   "metadata": {},
   "outputs": [
    {
     "data": {
      "text/plain": [
       "False"
      ]
     },
     "execution_count": 21,
     "metadata": {},
     "output_type": "execute_result"
    }
   ],
   "source": [
    "control_string(\"Metallic sdklhfs\")"
   ]
  },
  {
   "cell_type": "code",
   "execution_count": 28,
   "id": "f7bc9ee2",
   "metadata": {},
   "outputs": [],
   "source": [
    "my_artist_list=(\"Metallica\", \"Madonna\",\"Queen\", \"Muslum\",\"Metallica2\")"
   ]
  },
  {
   "cell_type": "code",
   "execution_count": 29,
   "id": "714e72f0",
   "metadata": {},
   "outputs": [
    {
     "data": {
      "text/plain": [
       "[True, False, False, False, True]"
      ]
     },
     "execution_count": 29,
     "metadata": {},
     "output_type": "execute_result"
    }
   ],
   "source": [
    "list(map(control_string,my_artist_list))"
   ]
  },
  {
   "cell_type": "markdown",
   "id": "77c2ac8a",
   "metadata": {},
   "source": [
    "## filter"
   ]
  },
  {
   "cell_type": "code",
   "execution_count": 30,
   "id": "7a5b0300",
   "metadata": {},
   "outputs": [
    {
     "data": {
      "text/plain": [
       "['Metallica', 'Metallica2']"
      ]
     },
     "execution_count": 30,
     "metadata": {},
     "output_type": "execute_result"
    }
   ],
   "source": [
    "list(filter(control_string,my_artist_list))"
   ]
  },
  {
   "cell_type": "markdown",
   "id": "a3035a7e",
   "metadata": {},
   "source": [
    "## lambda"
   ]
  },
  {
   "cell_type": "code",
   "execution_count": 9,
   "id": "65bd6ca8",
   "metadata": {},
   "outputs": [],
   "source": [
    "multiply=lambda number: number*3"
   ]
  },
  {
   "cell_type": "code",
   "execution_count": 10,
   "id": "fd297cff",
   "metadata": {},
   "outputs": [
    {
     "data": {
      "text/plain": [
       "15"
      ]
     },
     "execution_count": 10,
     "metadata": {},
     "output_type": "execute_result"
    }
   ],
   "source": [
    "multiply(5)"
   ]
  },
  {
   "cell_type": "code",
   "execution_count": 11,
   "id": "b05b1aa7",
   "metadata": {},
   "outputs": [],
   "source": [
    "my_list_3=[3,5,7,9]"
   ]
  },
  {
   "cell_type": "code",
   "execution_count": 15,
   "id": "cdcbfce0",
   "metadata": {},
   "outputs": [
    {
     "data": {
      "text/plain": [
       "<map at 0x2b46d03b148>"
      ]
     },
     "execution_count": 15,
     "metadata": {},
     "output_type": "execute_result"
    }
   ],
   "source": [
    "map(lambda num:num*4,my_list_3)"
   ]
  },
  {
   "cell_type": "code",
   "execution_count": 16,
   "id": "1cdd6859",
   "metadata": {},
   "outputs": [
    {
     "data": {
      "text/plain": [
       "[12, 20, 28, 36]"
      ]
     },
     "execution_count": 16,
     "metadata": {},
     "output_type": "execute_result"
    }
   ],
   "source": [
    "list(map(lambda num:num*4,my_list_3))"
   ]
  },
  {
   "cell_type": "code",
   "execution_count": null,
   "id": "82b7a0ee",
   "metadata": {},
   "outputs": [],
   "source": []
  }
 ],
 "metadata": {
  "kernelspec": {
   "display_name": "Python 3",
   "language": "python",
   "name": "python3"
  },
  "language_info": {
   "codemirror_mode": {
    "name": "ipython",
    "version": 3
   },
   "file_extension": ".py",
   "mimetype": "text/x-python",
   "name": "python",
   "nbconvert_exporter": "python",
   "pygments_lexer": "ipython3",
   "version": "3.7.4"
  }
 },
 "nbformat": 4,
 "nbformat_minor": 5
}
