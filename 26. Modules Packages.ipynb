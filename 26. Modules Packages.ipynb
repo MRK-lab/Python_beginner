{
 "cells": [
  {
   "cell_type": "code",
   "execution_count": 17,
   "id": "316183f0",
   "metadata": {},
   "outputs": [
    {
     "data": {
      "text/plain": [
       "80.46674820736362"
      ]
     },
     "execution_count": 17,
     "metadata": {},
     "output_type": "execute_result"
    }
   ],
   "source": [
    "import numpy\n",
    "\n",
    "grades= numpy.random.normal(80,30,1000)\n",
    "numpy.mean(grades)"
   ]
  },
  {
   "cell_type": "code",
   "execution_count": 18,
   "id": "ed2dbeee",
   "metadata": {},
   "outputs": [
    {
     "data": {
      "text/plain": [
       "78.88835707536511"
      ]
     },
     "execution_count": 18,
     "metadata": {},
     "output_type": "execute_result"
    }
   ],
   "source": [
    "import numpy as np # isim vermek için\n",
    "grades= np.random.normal(80,30,1000)\n",
    "numpy.mean(grades)"
   ]
  },
  {
   "cell_type": "code",
   "execution_count": 21,
   "id": "38b59ce5",
   "metadata": {},
   "outputs": [
    {
     "data": {
      "image/png": "[encoded data removed]",
      "text/plain": [
       "<Figure size 432x288 with 1 Axes>"
      ]
     },
     "metadata": {
      "needs_background": "light"
     },
     "output_type": "display_data"
    }
   ],
   "source": [
    "import matplotlib.pyplot as matplot\n",
    "matplot.hist(grades,50)\n",
    "matplot.show()"
   ]
  },
  {
   "cell_type": "code",
   "execution_count": null,
   "id": "00225a69",
   "metadata": {},
   "outputs": [],
   "source": []
  }
 ],
 "metadata": {
  "kernelspec": {
   "display_name": "Python 3",
   "language": "python",
   "name": "python3"
  },
  "language_info": {
   "codemirror_mode": {
    "name": "ipython",
    "version": 3
   },
   "file_extension": ".py",
   "mimetype": "text/x-python",
   "name": "python",
   "nbconvert_exporter": "python",
   "pygments_lexer": "ipython3",
   "version": "3.8.8"
  }
 },
 "nbformat": 4,
 "nbformat_minor": 5
}
