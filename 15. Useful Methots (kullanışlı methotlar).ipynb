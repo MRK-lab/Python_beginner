{
 "cells": [
  {
   "cell_type": "code",
   "execution_count": 1,
   "id": "80914971",
   "metadata": {},
   "outputs": [],
   "source": [
    "my_list=[1,2,3,4,5,6,7]"
   ]
  },
  {
   "cell_type": "code",
   "execution_count": 2,
   "id": "8f2a8dea",
   "metadata": {},
   "outputs": [
    {
     "name": "stdout",
     "output_type": "stream",
     "text": [
      "1\n",
      "2\n",
      "3\n",
      "4\n",
      "5\n",
      "6\n",
      "7\n"
     ]
    }
   ],
   "source": [
    "for number in my_list:\n",
    "    print(number)"
   ]
  },
  {
   "cell_type": "markdown",
   "id": "716f03b3",
   "metadata": {},
   "source": [
    "## range"
   ]
  },
  {
   "cell_type": "code",
   "execution_count": 3,
   "id": "1919c4ff",
   "metadata": {},
   "outputs": [
    {
     "data": {
      "text/plain": [
       "range(0, 20)"
      ]
     },
     "execution_count": 3,
     "metadata": {},
     "output_type": "execute_result"
    }
   ],
   "source": [
    "range(20)"
   ]
  },
  {
   "cell_type": "code",
   "execution_count": 4,
   "id": "8eec20d3",
   "metadata": {},
   "outputs": [
    {
     "data": {
      "text/plain": [
       "[0, 1, 2, 3, 4, 5, 6, 7, 8, 9, 10, 11, 12, 13, 14, 15, 16, 17, 18, 19]"
      ]
     },
     "execution_count": 4,
     "metadata": {},
     "output_type": "execute_result"
    }
   ],
   "source": [
    "list(range(20))"
   ]
  },
  {
   "cell_type": "code",
   "execution_count": 6,
   "id": "e5bf1e84",
   "metadata": {},
   "outputs": [
    {
     "name": "stdout",
     "output_type": "stream",
     "text": [
      "0\n",
      "5\n",
      "10\n",
      "15\n",
      "20\n",
      "25\n",
      "30\n",
      "35\n",
      "40\n",
      "45\n",
      "50\n",
      "55\n",
      "60\n",
      "65\n",
      "70\n",
      "75\n",
      "80\n",
      "85\n",
      "90\n",
      "95\n"
     ]
    }
   ],
   "source": [
    "for number in list(range(20)):\n",
    "    print(number*5)"
   ]
  },
  {
   "cell_type": "code",
   "execution_count": 8,
   "id": "6f6c2aa8",
   "metadata": {},
   "outputs": [
    {
     "name": "stdout",
     "output_type": "stream",
     "text": [
      "5\n",
      "6\n",
      "7\n",
      "8\n",
      "9\n",
      "10\n",
      "11\n",
      "12\n",
      "13\n",
      "14\n",
      "15\n",
      "16\n",
      "17\n",
      "18\n",
      "19\n",
      "20\n"
     ]
    }
   ],
   "source": [
    "for num in list(range(5,21)):\n",
    "    print(num)"
   ]
  },
  {
   "cell_type": "code",
   "execution_count": 9,
   "id": "0971b645",
   "metadata": {},
   "outputs": [
    {
     "name": "stdout",
     "output_type": "stream",
     "text": [
      "5\n",
      "8\n",
      "11\n",
      "14\n",
      "17\n",
      "20\n"
     ]
    }
   ],
   "source": [
    "for num in list(range(5,21,3)):\n",
    "    print(num)"
   ]
  },
  {
   "cell_type": "markdown",
   "id": "3601a7c5",
   "metadata": {},
   "source": [
    "## enumarate"
   ]
  },
  {
   "cell_type": "code",
   "execution_count": 15,
   "id": "e8bbb8d6",
   "metadata": {},
   "outputs": [
    {
     "name": "stdout",
     "output_type": "stream",
     "text": [
      "no: 5 ix: 0\n",
      "no: 6 ix: 1\n",
      "no: 7 ix: 2\n",
      "no: 8 ix: 3\n",
      "no: 9 ix: 4\n",
      "no: 10 ix: 5\n",
      "no: 11 ix: 6\n",
      "no: 12 ix: 7\n",
      "no: 13 ix: 8\n",
      "no: 14 ix: 9\n"
     ]
    }
   ],
   "source": [
    "index=0\n",
    "for number in list(range(5,15)):\n",
    "    print(f\"no: {number} ix: {index}\")\n",
    "    index+=1"
   ]
  },
  {
   "cell_type": "code",
   "execution_count": 18,
   "id": "5f168d6f",
   "metadata": {},
   "outputs": [
    {
     "name": "stdout",
     "output_type": "stream",
     "text": [
      "(0, 5)\n",
      "(1, 6)\n",
      "(2, 7)\n",
      "(3, 8)\n",
      "(4, 9)\n",
      "(5, 10)\n",
      "(6, 11)\n",
      "(7, 12)\n",
      "(8, 13)\n",
      "(9, 14)\n"
     ]
    }
   ],
   "source": [
    "for element in enumerate(list(range(5,15))):\n",
    "    print(element)"
   ]
  },
  {
   "cell_type": "code",
   "execution_count": 19,
   "id": "a67425fa",
   "metadata": {},
   "outputs": [
    {
     "name": "stdout",
     "output_type": "stream",
     "text": [
      "0\n",
      "5\n",
      "1\n",
      "6\n",
      "2\n",
      "7\n",
      "3\n",
      "8\n",
      "4\n",
      "9\n",
      "5\n",
      "10\n",
      "6\n",
      "11\n",
      "7\n",
      "12\n",
      "8\n",
      "13\n",
      "9\n",
      "14\n"
     ]
    }
   ],
   "source": [
    "for index,number in enumerate(list(range(5,15))):\n",
    "    print(index)\n",
    "    print(number)"
   ]
  },
  {
   "cell_type": "markdown",
   "id": "c9f779e3",
   "metadata": {},
   "source": [
    "## random"
   ]
  },
  {
   "cell_type": "code",
   "execution_count": 20,
   "id": "2b40a421",
   "metadata": {},
   "outputs": [],
   "source": [
    "from random import randint"
   ]
  },
  {
   "cell_type": "code",
   "execution_count": 22,
   "id": "1f793958",
   "metadata": {},
   "outputs": [
    {
     "data": {
      "text/plain": [
       "158"
      ]
     },
     "execution_count": 22,
     "metadata": {},
     "output_type": "execute_result"
    }
   ],
   "source": [
    "randint(0,1000)"
   ]
  },
  {
   "cell_type": "code",
   "execution_count": 23,
   "id": "dae814dc",
   "metadata": {},
   "outputs": [
    {
     "data": {
      "text/plain": [
       "43"
      ]
     },
     "execution_count": 23,
     "metadata": {},
     "output_type": "execute_result"
    }
   ],
   "source": [
    "randint(0,1000)"
   ]
  },
  {
   "cell_type": "code",
   "execution_count": 24,
   "id": "7a173fc9",
   "metadata": {},
   "outputs": [
    {
     "data": {
      "text/plain": [
       "584"
      ]
     },
     "execution_count": 24,
     "metadata": {},
     "output_type": "execute_result"
    }
   ],
   "source": [
    "randint(0,1000)"
   ]
  },
  {
   "cell_type": "code",
   "execution_count": 25,
   "id": "405eca46",
   "metadata": {},
   "outputs": [],
   "source": [
    "my_list2=list(range(0,10))"
   ]
  },
  {
   "cell_type": "code",
   "execution_count": 26,
   "id": "c50a683a",
   "metadata": {},
   "outputs": [
    {
     "data": {
      "text/plain": [
       "[0, 1, 2, 3, 4, 5, 6, 7, 8, 9]"
      ]
     },
     "execution_count": 26,
     "metadata": {},
     "output_type": "execute_result"
    }
   ],
   "source": [
    "my_list2"
   ]
  },
  {
   "cell_type": "code",
   "execution_count": 30,
   "id": "2d7856c7",
   "metadata": {},
   "outputs": [],
   "source": [
    "from random import shuffle ##listeyi kendi içinde karıştıracağız"
   ]
  },
  {
   "cell_type": "code",
   "execution_count": 33,
   "id": "4d2620d4",
   "metadata": {},
   "outputs": [],
   "source": [
    "shuffle(my_list2)"
   ]
  },
  {
   "cell_type": "code",
   "execution_count": 34,
   "id": "bb632d89",
   "metadata": {},
   "outputs": [
    {
     "data": {
      "text/plain": [
       "[1, 5, 0, 9, 8, 3, 6, 4, 2, 7]"
      ]
     },
     "execution_count": 34,
     "metadata": {},
     "output_type": "execute_result"
    }
   ],
   "source": [
    "my_list2"
   ]
  },
  {
   "cell_type": "markdown",
   "id": "0316a147",
   "metadata": {},
   "source": [
    "## zip"
   ]
  },
  {
   "cell_type": "code",
   "execution_count": 35,
   "id": "ac9b939d",
   "metadata": {},
   "outputs": [],
   "source": [
    "sport_list=[\"run\",\"swim\",\"basketball\"]"
   ]
  },
  {
   "cell_type": "code",
   "execution_count": 36,
   "id": "839e9c2f",
   "metadata": {},
   "outputs": [],
   "source": [
    "calories_list=[100,200,300]"
   ]
  },
  {
   "cell_type": "code",
   "execution_count": 37,
   "id": "b0d36c86",
   "metadata": {},
   "outputs": [],
   "source": [
    "day_list=[\"monday\",\"thursday\",\"wednesday\"]"
   ]
  },
  {
   "cell_type": "code",
   "execution_count": 39,
   "id": "85a608d3",
   "metadata": {},
   "outputs": [],
   "source": [
    "new_list=zip(sport_list,calories_list,day_list)"
   ]
  },
  {
   "cell_type": "code",
   "execution_count": 41,
   "id": "2ecca9e2",
   "metadata": {},
   "outputs": [
    {
     "data": {
      "text/plain": [
       "<zip at 0x1e1024290c8>"
      ]
     },
     "execution_count": 41,
     "metadata": {},
     "output_type": "execute_result"
    }
   ],
   "source": [
    "new_list # liste olarak göremiyoruz görmek için"
   ]
  },
  {
   "cell_type": "code",
   "execution_count": 42,
   "id": "1d287c0d",
   "metadata": {},
   "outputs": [],
   "source": [
    "new_list_2 = list(zip(sport_list,calories_list,day_list))"
   ]
  },
  {
   "cell_type": "code",
   "execution_count": 43,
   "id": "49632b17",
   "metadata": {},
   "outputs": [
    {
     "data": {
      "text/plain": [
       "[('run', 100, 'monday'),\n",
       " ('swim', 200, 'thursday'),\n",
       " ('basketball', 300, 'wednesday')]"
      ]
     },
     "execution_count": 43,
     "metadata": {},
     "output_type": "execute_result"
    }
   ],
   "source": [
    "new_list_2"
   ]
  },
  {
   "cell_type": "code",
   "execution_count": 46,
   "id": "18b41bf2",
   "metadata": {},
   "outputs": [
    {
     "name": "stdout",
     "output_type": "stream",
     "text": [
      "('run', 100, 'monday')\n",
      "('swim', 200, 'thursday')\n",
      "('basketball', 300, 'wednesday')\n"
     ]
    }
   ],
   "source": [
    "for element in new_list_2:\n",
    "    print(element)"
   ]
  },
  {
   "cell_type": "code",
   "execution_count": 47,
   "id": "111c6221",
   "metadata": {},
   "outputs": [
    {
     "name": "stdout",
     "output_type": "stream",
     "text": [
      "run\n",
      "100\n",
      "monday\n",
      "swim\n",
      "200\n",
      "thursday\n",
      "basketball\n",
      "300\n",
      "wednesday\n"
     ]
    }
   ],
   "source": [
    "for a,b,c in new_list_2:\n",
    "    print(a)\n",
    "    print(b)\n",
    "    print(c)"
   ]
  },
  {
   "cell_type": "markdown",
   "id": "7acbba0a",
   "metadata": {},
   "source": [
    "## list advanded"
   ]
  },
  {
   "cell_type": "code",
   "execution_count": 5,
   "id": "b0358149",
   "metadata": {},
   "outputs": [],
   "source": [
    "new_list=[]\n",
    "my_string=\"metallica\"\n",
    "\n",
    "for element in my_string:\n",
    "    new_list.append(element)"
   ]
  },
  {
   "cell_type": "code",
   "execution_count": 6,
   "id": "7e70ed71",
   "metadata": {},
   "outputs": [
    {
     "data": {
      "text/plain": [
       "['m', 'e', 't', 'a', 'l', 'l', 'i', 'c', 'a']"
      ]
     },
     "execution_count": 6,
     "metadata": {},
     "output_type": "execute_result"
    }
   ],
   "source": [
    "new_list"
   ]
  },
  {
   "cell_type": "code",
   "execution_count": 8,
   "id": "3c5d022d",
   "metadata": {},
   "outputs": [],
   "source": [
    "new_list=[element for element in my_string] # yukaıdaki işlemle aynı. for döngüsünü tek satırda kullandık"
   ]
  },
  {
   "cell_type": "code",
   "execution_count": 9,
   "id": "c7a1ec9b",
   "metadata": {},
   "outputs": [
    {
     "data": {
      "text/plain": [
       "['m', 'e', 't', 'a', 'l', 'l', 'i', 'c', 'a']"
      ]
     },
     "execution_count": 9,
     "metadata": {},
     "output_type": "execute_result"
    }
   ],
   "source": [
    "new_list"
   ]
  },
  {
   "cell_type": "code",
   "execution_count": 18,
   "id": "82aa915b",
   "metadata": {},
   "outputs": [],
   "source": [
    "new_list_2=[number**5 for number in  list(range(0,10))]"
   ]
  },
  {
   "cell_type": "code",
   "execution_count": 19,
   "id": "c5ed2955",
   "metadata": {},
   "outputs": [
    {
     "data": {
      "text/plain": [
       "[0, 1, 32, 243, 1024, 3125, 7776, 16807, 32768, 59049]"
      ]
     },
     "execution_count": 19,
     "metadata": {},
     "output_type": "execute_result"
    }
   ],
   "source": [
    "new_list_2"
   ]
  },
  {
   "cell_type": "code",
   "execution_count": null,
   "id": "abaa3b7d",
   "metadata": {},
   "outputs": [],
   "source": []
  }
 ],
 "metadata": {
  "kernelspec": {
   "display_name": "Python 3",
   "language": "python",
   "name": "python3"
  },
  "language_info": {
   "codemirror_mode": {
    "name": "ipython",
    "version": 3
   },
   "file_extension": ".py",
   "mimetype": "text/x-python",
   "name": "python",
   "nbconvert_exporter": "python",
   "pygments_lexer": "ipython3",
   "version": "3.7.4"
  }
 },
 "nbformat": 4,
 "nbformat_minor": 5
}
