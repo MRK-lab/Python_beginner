{
 "cells": [
  {
   "cell_type": "code",
   "execution_count": 1,
   "id": "ff9d2e65",
   "metadata": {},
   "outputs": [],
   "source": [
    "my_string=\"hello word\""
   ]
  },
  {
   "cell_type": "code",
   "execution_count": 2,
   "id": "a87a8919",
   "metadata": {},
   "outputs": [
    {
     "data": {
      "text/plain": [
       "'hello word'"
      ]
     },
     "execution_count": 2,
     "metadata": {},
     "output_type": "execute_result"
    }
   ],
   "source": [
    "my_string"
   ]
  },
  {
   "cell_type": "markdown",
   "id": "49e7a41a",
   "metadata": {},
   "source": [
    "## indexing"
   ]
  },
  {
   "cell_type": "code",
   "execution_count": 3,
   "id": "e47bad44",
   "metadata": {},
   "outputs": [
    {
     "data": {
      "text/plain": [
       "'h'"
      ]
     },
     "execution_count": 3,
     "metadata": {},
     "output_type": "execute_result"
    }
   ],
   "source": [
    "my_string[0]"
   ]
  },
  {
   "cell_type": "code",
   "execution_count": 4,
   "id": "b3351810",
   "metadata": {},
   "outputs": [
    {
     "data": {
      "text/plain": [
       "'o'"
      ]
     },
     "execution_count": 4,
     "metadata": {},
     "output_type": "execute_result"
    }
   ],
   "source": [
    "my_string[4]"
   ]
  },
  {
   "cell_type": "code",
   "execution_count": 5,
   "id": "59284a99",
   "metadata": {},
   "outputs": [
    {
     "data": {
      "text/plain": [
       "'d'"
      ]
     },
     "execution_count": 5,
     "metadata": {},
     "output_type": "execute_result"
    }
   ],
   "source": [
    "my_string[-1]"
   ]
  },
  {
   "cell_type": "code",
   "execution_count": 6,
   "id": "12b20c84",
   "metadata": {},
   "outputs": [
    {
     "data": {
      "text/plain": [
       "'r'"
      ]
     },
     "execution_count": 6,
     "metadata": {},
     "output_type": "execute_result"
    }
   ],
   "source": [
    "my_string[-2]"
   ]
  },
  {
   "cell_type": "code",
   "execution_count": 7,
   "id": "ae437ee0",
   "metadata": {},
   "outputs": [],
   "source": [
    "my_string_2=\"1234567890\""
   ]
  },
  {
   "cell_type": "code",
   "execution_count": 8,
   "id": "caf67ca2",
   "metadata": {},
   "outputs": [
    {
     "data": {
      "text/plain": [
       "'1'"
      ]
     },
     "execution_count": 8,
     "metadata": {},
     "output_type": "execute_result"
    }
   ],
   "source": [
    "my_string_2[0]"
   ]
  },
  {
   "cell_type": "code",
   "execution_count": 10,
   "id": "f4aaf45c",
   "metadata": {},
   "outputs": [
    {
     "data": {
      "text/plain": [
       "'34567890'"
      ]
     },
     "execution_count": 10,
     "metadata": {},
     "output_type": "execute_result"
    }
   ],
   "source": [
    "my_string_2[2:]"
   ]
  },
  {
   "cell_type": "markdown",
   "id": "e0a843e1",
   "metadata": {},
   "source": [
    "## slicing (kesme)"
   ]
  },
  {
   "cell_type": "code",
   "execution_count": 11,
   "id": "8980742e",
   "metadata": {},
   "outputs": [
    {
     "data": {
      "text/plain": [
       "'567890'"
      ]
     },
     "execution_count": 11,
     "metadata": {},
     "output_type": "execute_result"
    }
   ],
   "source": [
    "my_string_2[4:]"
   ]
  },
  {
   "cell_type": "code",
   "execution_count": 13,
   "id": "a0c4d39a",
   "metadata": {},
   "outputs": [
    {
     "data": {
      "text/plain": [
       "'12'"
      ]
     },
     "execution_count": 13,
     "metadata": {},
     "output_type": "execute_result"
    }
   ],
   "source": [
    "my_string_2[:2]"
   ]
  },
  {
   "cell_type": "markdown",
   "id": "3f4d2e7e",
   "metadata": {},
   "source": [
    "## stopping index"
   ]
  },
  {
   "cell_type": "code",
   "execution_count": 14,
   "id": "e4a54108",
   "metadata": {},
   "outputs": [
    {
     "data": {
      "text/plain": [
       "'1234'"
      ]
     },
     "execution_count": 14,
     "metadata": {},
     "output_type": "execute_result"
    }
   ],
   "source": [
    "my_string_2[:4]"
   ]
  },
  {
   "cell_type": "code",
   "execution_count": 16,
   "id": "4824313d",
   "metadata": {},
   "outputs": [
    {
     "data": {
      "text/plain": [
       "'34'"
      ]
     },
     "execution_count": 16,
     "metadata": {},
     "output_type": "execute_result"
    }
   ],
   "source": [
    "my_string_2[2:4]"
   ]
  },
  {
   "cell_type": "markdown",
   "id": "ba7965ef",
   "metadata": {},
   "source": [
    "## step size"
   ]
  },
  {
   "cell_type": "code",
   "execution_count": 17,
   "id": "435f7c41",
   "metadata": {},
   "outputs": [
    {
     "data": {
      "text/plain": [
       "'1234567890'"
      ]
     },
     "execution_count": 17,
     "metadata": {},
     "output_type": "execute_result"
    }
   ],
   "source": [
    "my_string_2[::]"
   ]
  },
  {
   "cell_type": "code",
   "execution_count": 18,
   "id": "bfc31f46",
   "metadata": {},
   "outputs": [
    {
     "data": {
      "text/plain": [
       "'1470'"
      ]
     },
     "execution_count": 18,
     "metadata": {},
     "output_type": "execute_result"
    }
   ],
   "source": [
    "my_string_2[::3]"
   ]
  },
  {
   "cell_type": "code",
   "execution_count": 19,
   "id": "4f728158",
   "metadata": {},
   "outputs": [
    {
     "data": {
      "text/plain": [
       "'13579'"
      ]
     },
     "execution_count": 19,
     "metadata": {},
     "output_type": "execute_result"
    }
   ],
   "source": [
    "my_string_2[::2]"
   ]
  },
  {
   "cell_type": "code",
   "execution_count": 23,
   "id": "d867a140",
   "metadata": {},
   "outputs": [
    {
     "data": {
      "text/plain": [
       "'3'"
      ]
     },
     "execution_count": 23,
     "metadata": {},
     "output_type": "execute_result"
    }
   ],
   "source": [
    "my_string_2[2:4:2] ## 2 den başlayıp 4 te duran 2 atlayan eleman"
   ]
  },
  {
   "cell_type": "code",
   "execution_count": 21,
   "id": "cad5eb40",
   "metadata": {},
   "outputs": [
    {
     "data": {
      "text/plain": [
       "'0987654321'"
      ]
     },
     "execution_count": 21,
     "metadata": {},
     "output_type": "execute_result"
    }
   ],
   "source": [
    "my_string_2[::-1] ## tersine çeviriyor"
   ]
  },
  {
   "cell_type": "markdown",
   "id": "d3353d1b",
   "metadata": {},
   "source": [
    "## string methots"
   ]
  },
  {
   "cell_type": "code",
   "execution_count": 34,
   "id": "224ee21e",
   "metadata": {},
   "outputs": [],
   "source": [
    "myName=\"mrk Kul\""
   ]
  },
  {
   "cell_type": "code",
   "execution_count": 35,
   "id": "bff29707",
   "metadata": {},
   "outputs": [
    {
     "data": {
      "text/plain": [
       "'Mrk kul'"
      ]
     },
     "execution_count": 35,
     "metadata": {},
     "output_type": "execute_result"
    }
   ],
   "source": [
    "myName.capitalize()"
   ]
  },
  {
   "cell_type": "code",
   "execution_count": 36,
   "id": "48a58633",
   "metadata": {},
   "outputs": [
    {
     "data": {
      "text/plain": [
       "['mrk', 'Kul']"
      ]
     },
     "execution_count": 36,
     "metadata": {},
     "output_type": "execute_result"
    }
   ],
   "source": [
    "myName.split()"
   ]
  },
  {
   "cell_type": "code",
   "execution_count": 37,
   "id": "197eed81",
   "metadata": {},
   "outputs": [
    {
     "data": {
      "text/plain": [
       "'MRK KUL'"
      ]
     },
     "execution_count": 37,
     "metadata": {},
     "output_type": "execute_result"
    }
   ],
   "source": [
    "myName.upper()"
   ]
  },
  {
   "cell_type": "code",
   "execution_count": 40,
   "id": "4b1a4bf4",
   "metadata": {},
   "outputs": [
    {
     "data": {
      "text/plain": [
       "'mrkmrkmrkmrkmrkmrkmrkmrkmrkmrk'"
      ]
     },
     "execution_count": 40,
     "metadata": {},
     "output_type": "execute_result"
    }
   ],
   "source": [
    "\"mrk\"*10"
   ]
  },
  {
   "cell_type": "code",
   "execution_count": 41,
   "id": "dc241a7f",
   "metadata": {},
   "outputs": [
    {
     "ename": "TypeError",
     "evalue": "can't multiply sequence by non-int of type 'float'",
     "output_type": "error",
     "traceback": [
      "\u001b[1;31m---------------------------------------------------------------------------\u001b[0m",
      "\u001b[1;31mTypeError\u001b[0m                                 Traceback (most recent call last)",
      "\u001b[1;32m<ipython-input-41-617e7848ace0>\u001b[0m in \u001b[0;36m<module>\u001b[1;34m\u001b[0m\n\u001b[1;32m----> 1\u001b[1;33m \u001b[1;34m\"mrk\"\u001b[0m\u001b[1;33m*\u001b[0m\u001b[1;36m10.5\u001b[0m\u001b[1;33m\u001b[0m\u001b[1;33m\u001b[0m\u001b[0m\n\u001b[0m",
      "\u001b[1;31mTypeError\u001b[0m: can't multiply sequence by non-int of type 'float'"
     ]
    }
   ],
   "source": [
    "\"mrk\"*10.5"
   ]
  },
  {
   "cell_type": "code",
   "execution_count": 43,
   "id": "cdb84ea5",
   "metadata": {},
   "outputs": [
    {
     "data": {
      "text/plain": [
       "'mrk 61'"
      ]
     },
     "execution_count": 43,
     "metadata": {},
     "output_type": "execute_result"
    }
   ],
   "source": [
    "\"mr\"+\"k\"+\" 61\""
   ]
  },
  {
   "cell_type": "code",
   "execution_count": 44,
   "id": "9745e42d",
   "metadata": {},
   "outputs": [],
   "source": [
    "my_name=\"Enes\""
   ]
  },
  {
   "cell_type": "code",
   "execution_count": 45,
   "id": "ecfaa60b",
   "metadata": {},
   "outputs": [],
   "source": [
    "my_surname=\"Kul\""
   ]
  },
  {
   "cell_type": "code",
   "execution_count": 46,
   "id": "fc8d9ded",
   "metadata": {},
   "outputs": [],
   "source": [
    "my_full_name=my_name+\" \"+my_surname"
   ]
  },
  {
   "cell_type": "code",
   "execution_count": 48,
   "id": "47b00f29",
   "metadata": {},
   "outputs": [
    {
     "data": {
      "text/plain": [
       "'Enes Kul'"
      ]
     },
     "execution_count": 48,
     "metadata": {},
     "output_type": "execute_result"
    }
   ],
   "source": [
    "my_full_name"
   ]
  },
  {
   "cell_type": "code",
   "execution_count": null,
   "id": "008b90d1",
   "metadata": {},
   "outputs": [],
   "source": []
  }
 ],
 "metadata": {
  "kernelspec": {
   "display_name": "Python 3",
   "language": "python",
   "name": "python3"
  },
  "language_info": {
   "codemirror_mode": {
    "name": "ipython",
    "version": 3
   },
   "file_extension": ".py",
   "mimetype": "text/x-python",
   "name": "python",
   "nbconvert_exporter": "python",
   "pygments_lexer": "ipython3",
   "version": "3.7.4"
  }
 },
 "nbformat": 4,
 "nbformat_minor": 5
}
