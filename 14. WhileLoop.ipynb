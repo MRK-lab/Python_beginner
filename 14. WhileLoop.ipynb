{
 "cells": [
  {
   "cell_type": "code",
   "execution_count": 6,
   "id": "82775349",
   "metadata": {},
   "outputs": [],
   "source": [
    "a=0"
   ]
  },
  {
   "cell_type": "code",
   "execution_count": 7,
   "id": "ad70b9e1",
   "metadata": {},
   "outputs": [
    {
     "name": "stdout",
     "output_type": "stream",
     "text": [
      "MRK\n",
      "MRK\n",
      "MRK\n",
      "MRK\n",
      "MRK\n"
     ]
    }
   ],
   "source": [
    "while a<5:\n",
    "    print(\"MRK\")\n",
    "    a=a+1"
   ]
  },
  {
   "cell_type": "code",
   "execution_count": 8,
   "id": "71a170a7",
   "metadata": {},
   "outputs": [],
   "source": [
    "my_list=[1,2,3,4,5]"
   ]
  },
  {
   "cell_type": "code",
   "execution_count": 9,
   "id": "2e553764",
   "metadata": {},
   "outputs": [
    {
     "data": {
      "text/plain": [
       "5"
      ]
     },
     "execution_count": 9,
     "metadata": {},
     "output_type": "execute_result"
    }
   ],
   "source": [
    "my_list.pop()"
   ]
  },
  {
   "cell_type": "code",
   "execution_count": 10,
   "id": "2b6577f4",
   "metadata": {},
   "outputs": [
    {
     "data": {
      "text/plain": [
       "[1, 2, 3, 4]"
      ]
     },
     "execution_count": 10,
     "metadata": {},
     "output_type": "execute_result"
    }
   ],
   "source": [
    "my_list"
   ]
  },
  {
   "cell_type": "code",
   "execution_count": 11,
   "id": "f817fac4",
   "metadata": {},
   "outputs": [],
   "source": [
    "my_list.append(5)"
   ]
  },
  {
   "cell_type": "code",
   "execution_count": 12,
   "id": "ced8db9f",
   "metadata": {},
   "outputs": [
    {
     "data": {
      "text/plain": [
       "[1, 2, 3, 4, 5]"
      ]
     },
     "execution_count": 12,
     "metadata": {},
     "output_type": "execute_result"
    }
   ],
   "source": [
    "my_list"
   ]
  },
  {
   "cell_type": "code",
   "execution_count": 13,
   "id": "e0564713",
   "metadata": {},
   "outputs": [
    {
     "name": "stdout",
     "output_type": "stream",
     "text": [
      "3 in my list\n",
      "3 in my list\n",
      "3 in my list\n"
     ]
    }
   ],
   "source": [
    "while 3 in my_list: #3 listede olduğu sürece\n",
    "    print(\"3 in my list\")\n",
    "    my_list.pop()"
   ]
  },
  {
   "cell_type": "code",
   "execution_count": 45,
   "id": "0abcaa75",
   "metadata": {},
   "outputs": [],
   "source": [
    "number=0"
   ]
  },
  {
   "cell_type": "code",
   "execution_count": 50,
   "id": "240aa1dc",
   "metadata": {},
   "outputs": [],
   "source": [
    "while number<10:\n",
    "    print(number)\n",
    "    #number=number+1\n",
    "    number +=1"
   ]
  },
  {
   "cell_type": "code",
   "execution_count": 60,
   "id": "d3398528",
   "metadata": {},
   "outputs": [],
   "source": [
    "p=0"
   ]
  },
  {
   "cell_type": "code",
   "execution_count": 62,
   "id": "87be254f",
   "metadata": {},
   "outputs": [],
   "source": [
    "while p<20:\n",
    "    #print(\"value p: \"+str(p))\n",
    "    print(f\"value pp: {p}\") # f koyduktan sonra herhangi bir değişkeni stringin iççnde kullanabiliriz\n",
    "    p+=1"
   ]
  },
  {
   "cell_type": "code",
   "execution_count": 54,
   "id": "a4e467eb",
   "metadata": {},
   "outputs": [
    {
     "data": {
      "text/plain": [
       "20"
      ]
     },
     "execution_count": 54,
     "metadata": {},
     "output_type": "execute_result"
    }
   ],
   "source": [
    "p"
   ]
  },
  {
   "cell_type": "code",
   "execution_count": null,
   "id": "70d13708",
   "metadata": {},
   "outputs": [],
   "source": []
  }
 ],
 "metadata": {
  "kernelspec": {
   "display_name": "Python 3",
   "language": "python",
   "name": "python3"
  },
  "language_info": {
   "codemirror_mode": {
    "name": "ipython",
    "version": 3
   },
   "file_extension": ".py",
   "mimetype": "text/x-python",
   "name": "python",
   "nbconvert_exporter": "python",
   "pygments_lexer": "ipython3",
   "version": "3.7.4"
  }
 },
 "nbformat": 4,
 "nbformat_minor": 5
}
