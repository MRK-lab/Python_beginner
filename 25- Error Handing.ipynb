{
 "cells": [
  {
   "cell_type": "code",
   "execution_count": 1,
   "id": "36c3e6a6",
   "metadata": {},
   "outputs": [],
   "source": [
    "def summation(num1,num2):\n",
    "    return num1+num2"
   ]
  },
  {
   "cell_type": "code",
   "execution_count": null,
   "id": "54bc8c9c",
   "metadata": {},
   "outputs": [],
   "source": [
    "x=input(\"Enter number: \")"
   ]
  },
  {
   "cell_type": "code",
   "execution_count": null,
   "id": "e1a9e84a",
   "metadata": {},
   "outputs": [],
   "source": [
    "y=input(\"Enter number: \")"
   ]
  },
  {
   "cell_type": "code",
   "execution_count": null,
   "id": "0a2e5dca",
   "metadata": {},
   "outputs": [],
   "source": [
    "def numberpower(num1):\n",
    "    return num1**2"
   ]
  },
  {
   "cell_type": "markdown",
   "id": "5625ad03",
   "metadata": {},
   "source": [
    "# try,except,finally"
   ]
  },
  {
   "cell_type": "code",
   "execution_count": null,
   "id": "310021ef",
   "metadata": {},
   "outputs": [],
   "source": [
    "while True:\n",
    "    try:\n",
    "        a=int(input(\"Enter number\"))\n",
    "    except:\n",
    "        print(\"Enter a number !!!\")\n",
    "        continue\n",
    "    else:\n",
    "        print(\"OK\")\n",
    "        break\n",
    "    finally:\n",
    "        print(\"Finally\")"
   ]
  },
  {
   "cell_type": "code",
   "execution_count": null,
   "id": "ba4181c2",
   "metadata": {},
   "outputs": [],
   "source": []
  },
  {
   "cell_type": "code",
   "execution_count": null,
   "id": "2d686780",
   "metadata": {},
   "outputs": [],
   "source": []
  }
 ],
 "metadata": {
  "kernelspec": {
   "display_name": "Python 3",
   "language": "python",
   "name": "python3"
  },
  "language_info": {
   "codemirror_mode": {
    "name": "ipython",
    "version": 3
   },
   "file_extension": ".py",
   "mimetype": "text/x-python",
   "name": "python",
   "nbconvert_exporter": "python",
   "pygments_lexer": "ipython3",
   "version": "3.7.4"
  }
 },
 "nbformat": 4,
 "nbformat_minor": 5
}
