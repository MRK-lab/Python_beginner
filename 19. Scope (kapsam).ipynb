{
 "cells": [
  {
   "cell_type": "code",
   "execution_count": 1,
   "id": "ad7b00ff",
   "metadata": {},
   "outputs": [],
   "source": [
    "number=10\n",
    "\n",
    "def multiply(num):\n",
    "    number=5\n",
    "    return num*number"
   ]
  },
  {
   "cell_type": "code",
   "execution_count": 2,
   "id": "dd8a73c4",
   "metadata": {},
   "outputs": [
    {
     "data": {
      "text/plain": [
       "50"
      ]
     },
     "execution_count": 2,
     "metadata": {},
     "output_type": "execute_result"
    }
   ],
   "source": [
    "multiply(10)"
   ]
  },
  {
   "cell_type": "code",
   "execution_count": 3,
   "id": "a6300d05",
   "metadata": {},
   "outputs": [
    {
     "name": "stdout",
     "output_type": "stream",
     "text": [
      "10\n"
     ]
    }
   ],
   "source": [
    "print(number)"
   ]
  },
  {
   "cell_type": "code",
   "execution_count": 4,
   "id": "edea9123",
   "metadata": {},
   "outputs": [],
   "source": [
    "a=10\n",
    "a=5"
   ]
  },
  {
   "cell_type": "code",
   "execution_count": 5,
   "id": "d073490e",
   "metadata": {},
   "outputs": [
    {
     "name": "stdout",
     "output_type": "stream",
     "text": [
      "5\n"
     ]
    }
   ],
   "source": [
    "print(a)"
   ]
  },
  {
   "cell_type": "markdown",
   "id": "b999a2a3",
   "metadata": {},
   "source": [
    "# LEGB\n",
    "\n",
    "# L -> Local\n",
    "# E -> Enclosing\n",
    "# G-> Global\n",
    "# B-> Built-in"
   ]
  },
  {
   "cell_type": "code",
   "execution_count": 6,
   "id": "57f53a19",
   "metadata": {},
   "outputs": [],
   "source": [
    "my_stirng=\"Sungur\"\n",
    "# Global\n",
    "\n",
    "def my_func():\n",
    "    my_stirng=\"Enes\"\n",
    "    # Enclosing\n",
    "    \n",
    "    def my_func_2():\n",
    "        \n",
    "        # Local\n",
    "        my_stirng=\"Aykurt\"\n",
    "        print(my_stirng)\n",
    "    \n",
    "    my_func_2()"
   ]
  },
  {
   "cell_type": "code",
   "execution_count": 7,
   "id": "28b3f7b3",
   "metadata": {},
   "outputs": [
    {
     "name": "stdout",
     "output_type": "stream",
     "text": [
      "Aykurt\n"
     ]
    }
   ],
   "source": [
    "my_func()"
   ]
  },
  {
   "cell_type": "code",
   "execution_count": 8,
   "id": "67a669f9",
   "metadata": {},
   "outputs": [
    {
     "data": {
      "text/plain": [
       "'Sungur'"
      ]
     },
     "execution_count": 8,
     "metadata": {},
     "output_type": "execute_result"
    }
   ],
   "source": [
    "my_stirng"
   ]
  },
  {
   "cell_type": "code",
   "execution_count": null,
   "id": "d951b78b",
   "metadata": {},
   "outputs": [],
   "source": []
  },
  {
   "cell_type": "code",
   "execution_count": 15,
   "id": "ac96a5e7",
   "metadata": {},
   "outputs": [],
   "source": [
    "y=10\n",
    "\n",
    "def func_new(y):\n",
    "    print(y)\n",
    "    y=5\n",
    "    print(y)"
   ]
  },
  {
   "cell_type": "code",
   "execution_count": 16,
   "id": "19dc4217",
   "metadata": {},
   "outputs": [
    {
     "name": "stdout",
     "output_type": "stream",
     "text": [
      "10\n",
      "5\n"
     ]
    }
   ],
   "source": [
    "func_new(10)"
   ]
  },
  {
   "cell_type": "code",
   "execution_count": 19,
   "id": "9aafc006",
   "metadata": {},
   "outputs": [
    {
     "name": "stdout",
     "output_type": "stream",
     "text": [
      "None\n",
      "5\n"
     ]
    }
   ],
   "source": [
    "y=func_new(y) # y değerini 5 yapmaya çalıştık aşşağıda yazması lazım ama yazmıyor"
   ]
  },
  {
   "cell_type": "code",
   "execution_count": 20,
   "id": "0cdd8d83",
   "metadata": {},
   "outputs": [],
   "source": [
    "y"
   ]
  },
  {
   "cell_type": "code",
   "execution_count": 25,
   "id": "2e2e4498",
   "metadata": {},
   "outputs": [],
   "source": [
    "# önerilmez\n",
    "x=10\n",
    "\n",
    "def func_new_2():\n",
    "    global x\n",
    "    x=5\n",
    "    print(x)\n"
   ]
  },
  {
   "cell_type": "code",
   "execution_count": 28,
   "id": "29fd5de6",
   "metadata": {},
   "outputs": [
    {
     "name": "stdout",
     "output_type": "stream",
     "text": [
      "5\n"
     ]
    }
   ],
   "source": [
    "func_new_2()"
   ]
  },
  {
   "cell_type": "code",
   "execution_count": 30,
   "id": "4f84deab",
   "metadata": {},
   "outputs": [
    {
     "data": {
      "text/plain": [
       "5"
      ]
     },
     "execution_count": 30,
     "metadata": {},
     "output_type": "execute_result"
    }
   ],
   "source": [
    "x"
   ]
  },
  {
   "cell_type": "code",
   "execution_count": null,
   "id": "f603fbbf",
   "metadata": {},
   "outputs": [],
   "source": []
  }
 ],
 "metadata": {
  "kernelspec": {
   "display_name": "Python 3",
   "language": "python",
   "name": "python3"
  },
  "language_info": {
   "codemirror_mode": {
    "name": "ipython",
    "version": 3
   },
   "file_extension": ".py",
   "mimetype": "text/x-python",
   "name": "python",
   "nbconvert_exporter": "python",
   "pygments_lexer": "ipython3",
   "version": "3.7.4"
  }
 },
 "nbformat": 4,
 "nbformat_minor": 5
}
