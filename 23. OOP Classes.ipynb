{
 "cells": [
  {
   "cell_type": "markdown",
   "id": "328f386b",
   "metadata": {},
   "source": [
    "# class"
   ]
  },
  {
   "cell_type": "code",
   "execution_count": 1,
   "id": "0d7156ad",
   "metadata": {},
   "outputs": [],
   "source": [
    "my_list=list()"
   ]
  },
  {
   "cell_type": "markdown",
   "id": "f411dab5",
   "metadata": {},
   "source": [
    "# instance & attribute"
   ]
  },
  {
   "cell_type": "code",
   "execution_count": 15,
   "id": "d3400efc",
   "metadata": {},
   "outputs": [],
   "source": [
    "class Musician():\n",
    "    def __init__(self,name,age):\n",
    "        self.name_attribute=name\n",
    "        self.age_attribute=age"
   ]
  },
  {
   "cell_type": "code",
   "execution_count": 16,
   "id": "7b363c74",
   "metadata": {},
   "outputs": [],
   "source": [
    "my_musician=Musician(\"cem\",50)"
   ]
  },
  {
   "cell_type": "code",
   "execution_count": 17,
   "id": "f05709a0",
   "metadata": {},
   "outputs": [
    {
     "data": {
      "text/plain": [
       "50"
      ]
     },
     "execution_count": 17,
     "metadata": {},
     "output_type": "execute_result"
    }
   ],
   "source": [
    "my_musician.age_attribute"
   ]
  },
  {
   "cell_type": "code",
   "execution_count": 18,
   "id": "a7f718d0",
   "metadata": {},
   "outputs": [
    {
     "data": {
      "text/plain": [
       "'cem'"
      ]
     },
     "execution_count": 18,
     "metadata": {},
     "output_type": "execute_result"
    }
   ],
   "source": [
    "my_musician.name_attribute"
   ]
  },
  {
   "cell_type": "code",
   "execution_count": 10,
   "id": "4f8aef6a",
   "metadata": {},
   "outputs": [],
   "source": [
    "my_musician.name=\"Barış\""
   ]
  },
  {
   "cell_type": "code",
   "execution_count": 11,
   "id": "8b49bdcf",
   "metadata": {},
   "outputs": [
    {
     "data": {
      "text/plain": [
       "'Barış'"
      ]
     },
     "execution_count": 11,
     "metadata": {},
     "output_type": "execute_result"
    }
   ],
   "source": [
    "my_musician.name"
   ]
  },
  {
   "cell_type": "code",
   "execution_count": 42,
   "id": "d8860470",
   "metadata": {},
   "outputs": [],
   "source": [
    "class Musician():\n",
    "    \n",
    "    job=\"musician\"\n",
    "    \n",
    "    def __init__(self,name,age):\n",
    "        self.name=name\n",
    "        self.age=age\n",
    "        \n",
    "    # methot\n",
    "    def sing(self):\n",
    "        print(f\"we are the champions {self.name}\")"
   ]
  },
  {
   "cell_type": "code",
   "execution_count": 43,
   "id": "568ba496",
   "metadata": {},
   "outputs": [],
   "source": [
    "my_musician_2=Musician(\"Cem\",50)"
   ]
  },
  {
   "cell_type": "code",
   "execution_count": 44,
   "id": "0b548bb3",
   "metadata": {},
   "outputs": [
    {
     "data": {
      "text/plain": [
       "'musician'"
      ]
     },
     "execution_count": 44,
     "metadata": {},
     "output_type": "execute_result"
    }
   ],
   "source": [
    "my_musician_2.job"
   ]
  },
  {
   "cell_type": "code",
   "execution_count": 45,
   "id": "b3fef187",
   "metadata": {},
   "outputs": [],
   "source": [
    "my_musician_2.job=\"singer\""
   ]
  },
  {
   "cell_type": "code",
   "execution_count": 46,
   "id": "90a21678",
   "metadata": {},
   "outputs": [
    {
     "data": {
      "text/plain": [
       "'singer'"
      ]
     },
     "execution_count": 46,
     "metadata": {},
     "output_type": "execute_result"
    }
   ],
   "source": [
    "my_musician_2.job"
   ]
  },
  {
   "cell_type": "code",
   "execution_count": 47,
   "id": "86988cab",
   "metadata": {},
   "outputs": [
    {
     "name": "stdout",
     "output_type": "stream",
     "text": [
      "we are the champions Cem\n"
     ]
    }
   ],
   "source": [
    "my_musician_2.sing()"
   ]
  },
  {
   "cell_type": "code",
   "execution_count": 57,
   "id": "ac628aa8",
   "metadata": {},
   "outputs": [],
   "source": [
    "class DogYears():\n",
    "    \n",
    "    year_factor=7\n",
    "    \n",
    "    def __init__(self,age):\n",
    "        self.age=age\n",
    "        \n",
    "    def calculation(self):\n",
    "        return self.age*self.year_factor"
   ]
  },
  {
   "cell_type": "code",
   "execution_count": 58,
   "id": "88e859d8",
   "metadata": {},
   "outputs": [],
   "source": [
    "my_dog=DogYears(3)"
   ]
  },
  {
   "cell_type": "code",
   "execution_count": 59,
   "id": "625dc64a",
   "metadata": {},
   "outputs": [
    {
     "data": {
      "text/plain": [
       "3"
      ]
     },
     "execution_count": 59,
     "metadata": {},
     "output_type": "execute_result"
    }
   ],
   "source": [
    "my_dog.age"
   ]
  },
  {
   "cell_type": "code",
   "execution_count": 60,
   "id": "fe856196",
   "metadata": {},
   "outputs": [
    {
     "data": {
      "text/plain": [
       "21"
      ]
     },
     "execution_count": 60,
     "metadata": {},
     "output_type": "execute_result"
    }
   ],
   "source": [
    "my_dog.calculation()"
   ]
  },
  {
   "cell_type": "code",
   "execution_count": 68,
   "id": "03c91768",
   "metadata": {},
   "outputs": [],
   "source": [
    "class DogYears2():\n",
    "    \n",
    "    year_factor=7\n",
    "    \n",
    "    def __init__(self,age=5):\n",
    "        self.age=age\n",
    "        self.name=\"Bar\"\n",
    "        \n",
    "    def calculation(self):\n",
    "        return self.age*self.year_factor"
   ]
  },
  {
   "cell_type": "code",
   "execution_count": 69,
   "id": "e6b7337c",
   "metadata": {},
   "outputs": [],
   "source": [
    "my_dog_2=DogYears2() # birşey yamayınca"
   ]
  },
  {
   "cell_type": "code",
   "execution_count": 70,
   "id": "c0286686",
   "metadata": {},
   "outputs": [
    {
     "data": {
      "text/plain": [
       "5"
      ]
     },
     "execution_count": 70,
     "metadata": {},
     "output_type": "execute_result"
    }
   ],
   "source": [
    "my_dog_2.age"
   ]
  },
  {
   "cell_type": "code",
   "execution_count": 71,
   "id": "03dba7ef",
   "metadata": {},
   "outputs": [
    {
     "data": {
      "text/plain": [
       "35"
      ]
     },
     "execution_count": 71,
     "metadata": {},
     "output_type": "execute_result"
    }
   ],
   "source": [
    "my_dog_2.calculation()"
   ]
  },
  {
   "cell_type": "code",
   "execution_count": 72,
   "id": "b69117b4",
   "metadata": {},
   "outputs": [
    {
     "data": {
      "text/plain": [
       "'Bar'"
      ]
     },
     "execution_count": 72,
     "metadata": {},
     "output_type": "execute_result"
    }
   ],
   "source": [
    "my_dog_2.name"
   ]
  },
  {
   "cell_type": "markdown",
   "id": "7e40a418",
   "metadata": {},
   "source": [
    "# inheritance (miras)"
   ]
  },
  {
   "cell_type": "code",
   "execution_count": 73,
   "id": "e723de42",
   "metadata": {},
   "outputs": [],
   "source": [
    "class Class1():\n",
    "    \n",
    "    def __init__(self):\n",
    "        print(\"Class1 created\")\n",
    "        \n",
    "    def method_1(self):\n",
    "        print(\"methot 1\")\n",
    "        \n",
    "    def method_2(self):\n",
    "        print(\"method 2\")"
   ]
  },
  {
   "cell_type": "code",
   "execution_count": 75,
   "id": "3eaad0fc",
   "metadata": {},
   "outputs": [
    {
     "name": "stdout",
     "output_type": "stream",
     "text": [
      "Class1 created\n"
     ]
    }
   ],
   "source": [
    "my_instance=Class1()"
   ]
  },
  {
   "cell_type": "code",
   "execution_count": null,
   "id": "5b66ccda",
   "metadata": {},
   "outputs": [],
   "source": [
    "my_instance.method_1()"
   ]
  },
  {
   "cell_type": "code",
   "execution_count": 78,
   "id": "28d69d92",
   "metadata": {},
   "outputs": [
    {
     "name": "stdout",
     "output_type": "stream",
     "text": [
      "method 2\n"
     ]
    }
   ],
   "source": [
    "my_instance.method_2()"
   ]
  },
  {
   "cell_type": "code",
   "execution_count": 94,
   "id": "187aac7a",
   "metadata": {},
   "outputs": [],
   "source": [
    "class Class2(Class1):\n",
    "    \n",
    "    def __init__(self):\n",
    "        Class1.__init__(self)\n",
    "        print(\"Class 2 created\")\n",
    "        \n",
    "    def method_3(self):\n",
    "        print(\"method 3\")\n",
    "        \n",
    "    # override: Class1 deki methot 1 geçersiz sayılır bu çağrılırsa\n",
    "    def method_1(self):\n",
    "        print(\"method 1 override\")"
   ]
  },
  {
   "cell_type": "code",
   "execution_count": 95,
   "id": "14cdb727",
   "metadata": {},
   "outputs": [
    {
     "name": "stdout",
     "output_type": "stream",
     "text": [
      "Class1 created\n",
      "Class 2 created\n"
     ]
    }
   ],
   "source": [
    "my_instance_2=Class2()"
   ]
  },
  {
   "cell_type": "code",
   "execution_count": 96,
   "id": "1e7d6ea6",
   "metadata": {},
   "outputs": [
    {
     "name": "stdout",
     "output_type": "stream",
     "text": [
      "method 1 override\n"
     ]
    }
   ],
   "source": [
    "my_instance_2.method_1()"
   ]
  },
  {
   "cell_type": "code",
   "execution_count": 97,
   "id": "f4b36354",
   "metadata": {},
   "outputs": [
    {
     "name": "stdout",
     "output_type": "stream",
     "text": [
      "method 3\n"
     ]
    }
   ],
   "source": [
    "my_instance_2.method_3()"
   ]
  },
  {
   "cell_type": "markdown",
   "id": "a7d6aebe",
   "metadata": {},
   "source": [
    "# polymorphism"
   ]
  },
  {
   "cell_type": "code",
   "execution_count": 1,
   "id": "4c4985a8",
   "metadata": {},
   "outputs": [],
   "source": [
    "class Apple():\n",
    "    def __init__(self,name):\n",
    "        self.name=name\n",
    "        \n",
    "    def information(self):\n",
    "        return self.name+\" 100 calories\""
   ]
  },
  {
   "cell_type": "code",
   "execution_count": 2,
   "id": "f56dd883",
   "metadata": {},
   "outputs": [],
   "source": [
    "class Banana():\n",
    "    def __init__(self,name):\n",
    "        self.name=name\n",
    "        \n",
    "    def information(self):\n",
    "        return self.name+\" 200 calories\""
   ]
  },
  {
   "cell_type": "code",
   "execution_count": 3,
   "id": "e43ffae9",
   "metadata": {},
   "outputs": [],
   "source": [
    "banana=Banana(\"banana\")"
   ]
  },
  {
   "cell_type": "code",
   "execution_count": 4,
   "id": "67488211",
   "metadata": {},
   "outputs": [],
   "source": [
    "apple=Apple(\"apple\")"
   ]
  },
  {
   "cell_type": "code",
   "execution_count": 5,
   "id": "4d6096bc",
   "metadata": {},
   "outputs": [
    {
     "data": {
      "text/plain": [
       "'banana 200 calories'"
      ]
     },
     "execution_count": 5,
     "metadata": {},
     "output_type": "execute_result"
    }
   ],
   "source": [
    "banana.information()"
   ]
  },
  {
   "cell_type": "code",
   "execution_count": 6,
   "id": "5b524cd2",
   "metadata": {},
   "outputs": [
    {
     "data": {
      "text/plain": [
       "'apple 100 calories'"
      ]
     },
     "execution_count": 6,
     "metadata": {},
     "output_type": "execute_result"
    }
   ],
   "source": [
    "apple.information()"
   ]
  },
  {
   "cell_type": "code",
   "execution_count": 7,
   "id": "e7a0eb06",
   "metadata": {},
   "outputs": [],
   "source": [
    "fruit_list=[banana,apple]"
   ]
  },
  {
   "cell_type": "code",
   "execution_count": 8,
   "id": "76c11195",
   "metadata": {},
   "outputs": [
    {
     "name": "stdout",
     "output_type": "stream",
     "text": [
      "banana 200 calories\n",
      "apple 100 calories\n"
     ]
    }
   ],
   "source": [
    "for fruit in fruit_list:\n",
    "    print(fruit.information())"
   ]
  },
  {
   "cell_type": "code",
   "execution_count": 9,
   "id": "99026eeb",
   "metadata": {},
   "outputs": [],
   "source": [
    "def get_info(fruit):\n",
    "    print(fruit.information())"
   ]
  },
  {
   "cell_type": "code",
   "execution_count": 11,
   "id": "4f800639",
   "metadata": {},
   "outputs": [
    {
     "name": "stdout",
     "output_type": "stream",
     "text": [
      "banana 200 calories\n"
     ]
    }
   ],
   "source": [
    "get_info(banana)"
   ]
  },
  {
   "cell_type": "code",
   "execution_count": 12,
   "id": "50d514f4",
   "metadata": {},
   "outputs": [
    {
     "name": "stdout",
     "output_type": "stream",
     "text": [
      "apple 100 calories\n"
     ]
    }
   ],
   "source": [
    "get_info(apple)"
   ]
  },
  {
   "cell_type": "code",
   "execution_count": null,
   "id": "2f7392d5",
   "metadata": {},
   "outputs": [],
   "source": []
  }
 ],
 "metadata": {
  "kernelspec": {
   "display_name": "Python 3",
   "language": "python",
   "name": "python3"
  },
  "language_info": {
   "codemirror_mode": {
    "name": "ipython",
    "version": 3
   },
   "file_extension": ".py",
   "mimetype": "text/x-python",
   "name": "python",
   "nbconvert_exporter": "python",
   "pygments_lexer": "ipython3",
   "version": "3.7.4"
  }
 },
 "nbformat": 4,
 "nbformat_minor": 5
}
