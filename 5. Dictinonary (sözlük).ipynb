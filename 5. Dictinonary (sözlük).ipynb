{
 "cells": [
  {
   "cell_type": "code",
   "execution_count": 1,
   "id": "46b3125a",
   "metadata": {},
   "outputs": [],
   "source": [
    "my_dictionary={\"key\":\"value\"}"
   ]
  },
  {
   "cell_type": "code",
   "execution_count": 2,
   "id": "3ca63cd1",
   "metadata": {},
   "outputs": [
    {
     "data": {
      "text/plain": [
       "'value'"
      ]
     },
     "execution_count": 2,
     "metadata": {},
     "output_type": "execute_result"
    }
   ],
   "source": [
    "my_dictionary[\"key\"]"
   ]
  },
  {
   "cell_type": "code",
   "execution_count": 4,
   "id": "2d21ef8c",
   "metadata": {},
   "outputs": [],
   "source": [
    "my_list_1=(100,200)"
   ]
  },
  {
   "cell_type": "code",
   "execution_count": 5,
   "id": "5677764b",
   "metadata": {},
   "outputs": [],
   "source": [
    "my_list_2=(\"run\",\"swim\")"
   ]
  },
  {
   "cell_type": "code",
   "execution_count": 6,
   "id": "06775871",
   "metadata": {},
   "outputs": [
    {
     "data": {
      "text/plain": [
       "100"
      ]
     },
     "execution_count": 6,
     "metadata": {},
     "output_type": "execute_result"
    }
   ],
   "source": [
    "my_list_1[0]"
   ]
  },
  {
   "cell_type": "code",
   "execution_count": 7,
   "id": "0dc93f60",
   "metadata": {},
   "outputs": [
    {
     "data": {
      "text/plain": [
       "'run'"
      ]
     },
     "execution_count": 7,
     "metadata": {},
     "output_type": "execute_result"
    }
   ],
   "source": [
    "my_list_2[0]"
   ]
  },
  {
   "cell_type": "code",
   "execution_count": 8,
   "id": "0f66d544",
   "metadata": {},
   "outputs": [],
   "source": [
    "my_fitness_dictionaary={\"run\":100,\"swim\":200}"
   ]
  },
  {
   "cell_type": "code",
   "execution_count": 9,
   "id": "0ea7d9f4",
   "metadata": {},
   "outputs": [
    {
     "data": {
      "text/plain": [
       "100"
      ]
     },
     "execution_count": 9,
     "metadata": {},
     "output_type": "execute_result"
    }
   ],
   "source": [
    "my_fitness_dictionaary[\"run\"]"
   ]
  },
  {
   "cell_type": "code",
   "execution_count": 10,
   "id": "160c9b38",
   "metadata": {},
   "outputs": [
    {
     "data": {
      "text/plain": [
       "200"
      ]
     },
     "execution_count": 10,
     "metadata": {},
     "output_type": "execute_result"
    }
   ],
   "source": [
    "my_fitness_dictionaary[\"swim\"]"
   ]
  },
  {
   "cell_type": "code",
   "execution_count": 19,
   "id": "48c74635",
   "metadata": {},
   "outputs": [],
   "source": [
    "my_dictionary_2={\"key1\":1,\"key2\":2,\"key3\":\"apple\"}"
   ]
  },
  {
   "cell_type": "code",
   "execution_count": 20,
   "id": "3f4dc023",
   "metadata": {},
   "outputs": [
    {
     "data": {
      "text/plain": [
       "1"
      ]
     },
     "execution_count": 20,
     "metadata": {},
     "output_type": "execute_result"
    }
   ],
   "source": [
    "my_dictionary_2[\"key1\"]"
   ]
  },
  {
   "cell_type": "code",
   "execution_count": 21,
   "id": "5ab7656c",
   "metadata": {},
   "outputs": [
    {
     "data": {
      "text/plain": [
       "2"
      ]
     },
     "execution_count": 21,
     "metadata": {},
     "output_type": "execute_result"
    }
   ],
   "source": [
    "my_dictionary_2[\"key2\"]"
   ]
  },
  {
   "cell_type": "code",
   "execution_count": 22,
   "id": "97719d8d",
   "metadata": {},
   "outputs": [
    {
     "data": {
      "text/plain": [
       "'apple'"
      ]
     },
     "execution_count": 22,
     "metadata": {},
     "output_type": "execute_result"
    }
   ],
   "source": [
    "my_dictionary_2[\"key3\"]"
   ]
  },
  {
   "cell_type": "code",
   "execution_count": 23,
   "id": "d2bc8d31",
   "metadata": {},
   "outputs": [],
   "source": [
    "my_dictionary_3={\"key1\":10,20:30}"
   ]
  },
  {
   "cell_type": "code",
   "execution_count": 24,
   "id": "d2c95436",
   "metadata": {},
   "outputs": [
    {
     "data": {
      "text/plain": [
       "10"
      ]
     },
     "execution_count": 24,
     "metadata": {},
     "output_type": "execute_result"
    }
   ],
   "source": [
    "my_dictionary_3[\"key1\"]"
   ]
  },
  {
   "cell_type": "code",
   "execution_count": 25,
   "id": "577013cd",
   "metadata": {},
   "outputs": [
    {
     "data": {
      "text/plain": [
       "30"
      ]
     },
     "execution_count": 25,
     "metadata": {},
     "output_type": "execute_result"
    }
   ],
   "source": [
    "my_dictionary_3[20]"
   ]
  },
  {
   "cell_type": "code",
   "execution_count": 26,
   "id": "1cfd189c",
   "metadata": {},
   "outputs": [],
   "source": [
    "my_dictionary_4={\"key1\":100,\"key2\":[10,20,30],\"key3\":{\"a\":5}}"
   ]
  },
  {
   "cell_type": "code",
   "execution_count": 28,
   "id": "e9364979",
   "metadata": {},
   "outputs": [
    {
     "data": {
      "text/plain": [
       "dict_keys(['key1', 'key2', 'key3'])"
      ]
     },
     "execution_count": 28,
     "metadata": {},
     "output_type": "execute_result"
    }
   ],
   "source": [
    "my_dictionary_4.keys()"
   ]
  },
  {
   "cell_type": "code",
   "execution_count": 29,
   "id": "24a5d2a3",
   "metadata": {},
   "outputs": [
    {
     "data": {
      "text/plain": [
       "dict_values([100, [10, 20, 30], {'a': 5}])"
      ]
     },
     "execution_count": 29,
     "metadata": {},
     "output_type": "execute_result"
    }
   ],
   "source": [
    "my_dictionary_4.values()"
   ]
  },
  {
   "cell_type": "code",
   "execution_count": 33,
   "id": "f2a9ab89",
   "metadata": {},
   "outputs": [
    {
     "data": {
      "text/plain": [
       "5"
      ]
     },
     "execution_count": 33,
     "metadata": {},
     "output_type": "execute_result"
    }
   ],
   "source": [
    "my_dictionary_4[\"key3\"][\"a\"]"
   ]
  },
  {
   "cell_type": "code",
   "execution_count": 35,
   "id": "62bb8d2b",
   "metadata": {},
   "outputs": [],
   "source": [
    "my_dictionary_5={\"k1\":1,\"k2\":2}"
   ]
  },
  {
   "cell_type": "code",
   "execution_count": 36,
   "id": "b99dd899",
   "metadata": {},
   "outputs": [],
   "source": [
    "my_dictionary_5[\"k1\"]=3"
   ]
  },
  {
   "cell_type": "code",
   "execution_count": 38,
   "id": "7ba2154f",
   "metadata": {},
   "outputs": [
    {
     "data": {
      "text/plain": [
       "{'k1': 3, 'k2': 2}"
      ]
     },
     "execution_count": 38,
     "metadata": {},
     "output_type": "execute_result"
    }
   ],
   "source": [
    "my_dictionary_5"
   ]
  },
  {
   "cell_type": "code",
   "execution_count": 39,
   "id": "c9b56bac",
   "metadata": {},
   "outputs": [],
   "source": [
    "my_dictionary_5[\"k3\"]=7"
   ]
  },
  {
   "cell_type": "code",
   "execution_count": 40,
   "id": "34bbf95f",
   "metadata": {},
   "outputs": [
    {
     "data": {
      "text/plain": [
       "{'k1': 3, 'k2': 2, 'k3': 7}"
      ]
     },
     "execution_count": 40,
     "metadata": {},
     "output_type": "execute_result"
    }
   ],
   "source": [
    "my_dictionary_5"
   ]
  },
  {
   "cell_type": "code",
   "execution_count": null,
   "id": "a6a35b96",
   "metadata": {},
   "outputs": [],
   "source": []
  }
 ],
 "metadata": {
  "kernelspec": {
   "display_name": "Python 3",
   "language": "python",
   "name": "python3"
  },
  "language_info": {
   "codemirror_mode": {
    "name": "ipython",
    "version": 3
   },
   "file_extension": ".py",
   "mimetype": "text/x-python",
   "name": "python",
   "nbconvert_exporter": "python",
   "pygments_lexer": "ipython3",
   "version": "3.7.4"
  }
 },
 "nbformat": 4,
 "nbformat_minor": 5
}
